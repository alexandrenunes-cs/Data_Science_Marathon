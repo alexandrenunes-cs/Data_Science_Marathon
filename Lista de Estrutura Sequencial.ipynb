{
 "cells": [
  {
   "cell_type": "markdown",
   "metadata": {},
   "source": [
    "1. Faça um Programa que mostre a mensagem \"Alo mundo\" na tela."
   ]
  },
  {
   "cell_type": "code",
   "execution_count": 1,
   "metadata": {},
   "outputs": [
    {
     "name": "stdout",
     "output_type": "stream",
     "text": [
      "Alo mundo\n"
     ]
    }
   ],
   "source": [
    "print(\"Alo mundo\")"
   ]
  },
  {
   "cell_type": "markdown",
   "metadata": {},
   "source": [
    "2. Faça um Programa que peça um número e então mostre a mensagem O número informado foi [número]."
   ]
  },
  {
   "cell_type": "code",
   "execution_count": 4,
   "metadata": {},
   "outputs": [
    {
     "name": "stdout",
     "output_type": "stream",
     "text": [
      "Digite um número: 5\n",
      "O número informado foi 5\n"
     ]
    }
   ],
   "source": [
    "n = int(input(\"Digite um número: \"))\n",
    "print(\"O número informado foi \" + str(n))"
   ]
  },
  {
   "cell_type": "markdown",
   "metadata": {},
   "source": [
    "3. Faça um Programa que peça dois números e imprima a soma."
   ]
  },
  {
   "cell_type": "code",
   "execution_count": 5,
   "metadata": {},
   "outputs": [
    {
     "name": "stdout",
     "output_type": "stream",
     "text": [
      "Digite um número: 3\n",
      "Digite outro número: 4\n",
      "A soma dos números informados é 7\n"
     ]
    }
   ],
   "source": [
    "n = int(input(\"Digite um número: \"))\n",
    "n1 = int(input(\"Digite outro número: \"))\n",
    "print(\"A soma dos números informados é \" + str(n + n1))"
   ]
  },
  {
   "cell_type": "markdown",
   "metadata": {},
   "source": [
    "4. Faça um Programa que peça as 4 notas bimestrais e mostre a média."
   ]
  },
  {
   "cell_type": "code",
   "execution_count": 10,
   "metadata": {},
   "outputs": [
    {
     "name": "stdout",
     "output_type": "stream",
     "text": [
      "Digite a 1° nota: 2\n",
      "Digite a 2° nota: 2\n",
      "Digite a 3° nota: 2\n",
      "Digite a 4° nota: 2\n",
      "A soma dos números informados é 2.0\n"
     ]
    }
   ],
   "source": [
    "n = []\n",
    "for i in range(0,4): n.append(int(input(\"Digite a \" + str(i+1) + \"° nota: \")))\n",
    "print(\"A soma dos números informados é \" + str(sum(n)/len(n)))"
   ]
  },
  {
   "cell_type": "markdown",
   "metadata": {},
   "source": [
    "5. Faça um Programa que converta metros para centímetros."
   ]
  },
  {
   "cell_type": "code",
   "execution_count": 18,
   "metadata": {},
   "outputs": [
    {
     "name": "stdout",
     "output_type": "stream",
     "text": [
      "Digite o valor (em metros): 2.3\n",
      "2.3 metros convertidos em centímetros é: 230\n"
     ]
    }
   ],
   "source": [
    "m = float(input('Digite o valor (em metros): '))\n",
    "print(str(m) + ' metros convertidos em centímetros é: ' + \"{0:.0f}\".format(m * 100))"
   ]
  },
  {
   "cell_type": "markdown",
   "metadata": {},
   "source": [
    "6. Faça um Programa que peça o raio de um círculo, calcule e mostre sua área."
   ]
  },
  {
   "cell_type": "code",
   "execution_count": 20,
   "metadata": {},
   "outputs": [
    {
     "name": "stdout",
     "output_type": "stream",
     "text": [
      "Digite o valor do raio do círculo: 4\n",
      "50.27\n"
     ]
    }
   ],
   "source": [
    "r = float(input('Digite o valor do raio do círculo: '))\n",
    "print(\"{0:.2f}\".format(3.14159265359 * r**2))"
   ]
  },
  {
   "cell_type": "markdown",
   "metadata": {},
   "source": [
    "7. Faça um Programa que calcule a área de um quadrado, em seguida mostre o dobro desta área para o usuário."
   ]
  },
  {
   "cell_type": "code",
   "execution_count": 21,
   "metadata": {},
   "outputs": [
    {
     "name": "stdout",
     "output_type": "stream",
     "text": [
      "Digite o valor do lado do quadrado: 2\n",
      "O dobro da area do quadrado é 8.00\n"
     ]
    }
   ],
   "source": [
    "l = float(input('Digite o valor do lado do quadrado: '))\n",
    "area = l * l\n",
    "print(\"O dobro da area do quadrado é {0:.2f}\".format(area*2))"
   ]
  },
  {
   "cell_type": "markdown",
   "metadata": {},
   "source": [
    "8. Faça um Programa que pergunte quanto você ganha por hora e o número de horas trabalhadas no mês. Calcule e mostre o total do seu salário no referido mês."
   ]
  },
  {
   "cell_type": "code",
   "execution_count": 4,
   "metadata": {},
   "outputs": [
    {
     "name": "stdout",
     "output_type": "stream",
     "text": [
      "Quanto você recebe por hora? 30\n",
      "Quantas horas trabalha por mês? 180\n",
      "Você recebe R$5400.00/mês\n"
     ]
    }
   ],
   "source": [
    "realHr = float(input('Quanto você recebe por hora? '))\n",
    "hrsMes = float(input('Quantas horas trabalha por mês? '))\n",
    "print('Você recebe R${0:.2f}/mês'.format(realHr * hrsMes))"
   ]
  },
  {
   "cell_type": "markdown",
   "metadata": {},
   "source": [
    "9. Faça um Programa que peça a temperatura em graus Farenheit, transforme e mostre a temperatura em graus Celsius.<br>\n",
    "C = (5 * (F-32) / 9)."
   ]
  },
  {
   "cell_type": "code",
   "execution_count": 5,
   "metadata": {},
   "outputs": [
    {
     "name": "stdout",
     "output_type": "stream",
     "text": [
      "Digite a temperatura em Farenheit: 32\n",
      "A temperatura digitada e convertida para Celsius é 0.00°\n"
     ]
    }
   ],
   "source": [
    "t = float(input('Digite a temperatura em Farenheit: '))\n",
    "print('A temperatura digitada e convertida para Celsius é {0:.2f}°'.format((5 * (t - 32)/9)))"
   ]
  },
  {
   "cell_type": "markdown",
   "metadata": {},
   "source": [
    "10. Faça um Programa que peça a temperatura em graus Celsius, transforme e mostre em graus Farenheit. "
   ]
  },
  {
   "cell_type": "code",
   "execution_count": 6,
   "metadata": {},
   "outputs": [
    {
     "name": "stdout",
     "output_type": "stream",
     "text": [
      "Digite a temperatura em Celsius: 0\n",
      "A temperatura digitada e convertida para Farenheit é 89.60°\n"
     ]
    }
   ],
   "source": [
    "float(input('Digite a temperatura em Celsius: '))\n",
    "print('A temperatura digitada e convertida para Farenheit é {0:.2f}°'.format((t * 9/5 + 32)))"
   ]
  },
  {
   "cell_type": "markdown",
   "metadata": {},
   "source": [
    "11. Faça um Programa que peça 2 números inteiros e um número real. Calcule e mostre:<br>\n",
    "a) o produto do dobro do primeiro com metade do segundo .<br>\n",
    "b) a soma do triplo do primeiro com o terceiro.<br>\n",
    "c) o terceiro elevado ao cubo."
   ]
  },
  {
   "cell_type": "code",
   "execution_count": 12,
   "metadata": {},
   "outputs": [
    {
     "name": "stdout",
     "output_type": "stream",
     "text": [
      "Digite um número inteiro? 2\n",
      "Digite outro número inteiro? 2\n",
      "Digite um número real? 2.2\n",
      "O produto do dobro do primeiro com metade do segundo é: 4.0\n",
      "A soma do triplo do primeiro com o terceiro é 8.2: \n",
      "O terceiro elevado ao cubo é: 10.65\n"
     ]
    }
   ],
   "source": [
    "x = int(input('Digite um número inteiro? '))\n",
    "y = int(input('Digite outro número inteiro? '))\n",
    "r = float(input('Digite um número real? '))\n",
    "print('O produto do dobro do primeiro com metade do segundo é: {0}'.format((x*2)*y/2))\n",
    "print('A soma do triplo do primeiro com o terceiro é {0}: '.format(x*3+r))\n",
    "print('O terceiro elevado ao cubo é: {0:.2f}'.format(r**3))"
   ]
  },
  {
   "cell_type": "markdown",
   "metadata": {},
   "source": [
    "12. Tendo como dados de entrada a altura de uma pessoa, construa um algoritmo que calcule seu peso ideal, usando a seguinte fórmula: (72.7*altura) - 58"
   ]
  },
  {
   "cell_type": "code",
   "execution_count": 10,
   "metadata": {},
   "outputs": [
    {
     "name": "stdout",
     "output_type": "stream",
     "text": [
      "Digite a sua altura em centímetro: 1.85\n",
      "O peso ideal é: 76.50\n"
     ]
    }
   ],
   "source": [
    "a = float(input('Digite a sua altura em metros: '))\n",
    "print('O peso ideal é: {0:.2f}'.format((72.7*a) - 58))"
   ]
  },
  {
   "cell_type": "markdown",
   "metadata": {},
   "source": [
    "13. Tendo como dado de entrada a altura (h) de uma pessoa, construa um algoritmo que calcule seu peso ideal, utilizando as seguintes fórmulas:<br>\n",
    "Para homens: (72.7*h) - 58<br>\n",
    "Para mulheres: (62.1*h) - 44.7"
   ]
  },
  {
   "cell_type": "code",
   "execution_count": 21,
   "metadata": {},
   "outputs": [
    {
     "name": "stdout",
     "output_type": "stream",
     "text": [
      "Digite a sua altura em metros: 1.85\n",
      "Informe o sexo([0] mulher ou [1] homem): 0\n",
      "O peso ideal é: 70.19\n"
     ]
    }
   ],
   "source": [
    "a = float(input('Digite a sua altura em metros: '))\n",
    "s = bool(int(input('Informe o sexo([0] mulher ou [1] homem): ')))\n",
    "if s: print('O peso ideal é: {0:.2f}'.format((72.7*a) - 58))\n",
    "else: print('O peso ideal é: {0:.2f}'.format((62.1*a) - 44.7))"
   ]
  },
  {
   "cell_type": "markdown",
   "metadata": {},
   "source": [
    "14. João Papo-de-Pescador, homem de bem, comprou um microcomputador para controlar o rendimento diário de seu trabalho. Toda vez que ele traz um peso de peixes maior que o estabelecido pelo regulamento de pesca do estado de São Paulo (50 quilos) deve pagar uma multa de R$ 4,00 por quilo excedente. João precisa que você faça um programa que leia a variável peso (peso de peixes) e calcule o excesso. Gravar na variável excesso a quantidade de quilos além do limite e na variável multa o valor da multa que João deverá pagar. Imprima os dados do programa com as mensagens adequadas."
   ]
  },
  {
   "cell_type": "code",
   "execution_count": 24,
   "metadata": {},
   "outputs": [
    {
     "name": "stdout",
     "output_type": "stream",
     "text": [
      "Quantos Kg de pescado? 75.6\n",
      "Você irá pagar R$102.40 de multa\n"
     ]
    }
   ],
   "source": [
    "pPeixe = float(input('Quantos Kg de pescado? '))\n",
    "pLimite = 50\n",
    "vMulta = 4\n",
    "excesso = pPeixe - pLimite\n",
    "multa = excesso * vMulta\n",
    "if multa > 0: print('Você irá pagar R${0:.2f} de multa'.format(multa))\n",
    "else: print('Você não precisará pagar multa hoje')\n"
   ]
  },
  {
   "cell_type": "markdown",
   "metadata": {},
   "source": [
    "15. Faça um Programa que pergunte quanto você ganha por hora e o número de horas trabalhadas no mês. Calcule e mostre o total do seu salário no referido mês, sabendo-se que são descontados 11% para o Imposto de Renda, 8% para o INSS e 5% para o sindicato, faça um programa que nos dê:<br>\n",
    "a) salário bruto.<br>\n",
    "b) quanto pagou ao INSS.<br>\n",
    "c) quanto pagou ao sindicato.<br>\n",
    "d) o salário líquido.<br>\n",
    "e) calcule os descontos e o salário líquido, conforme a tabela abaixo:<br>\n",
    "    `+ Salário Bruto : R$`<br>\n",
    "    `- IR (11%) : R$`<br>\n",
    "    `- INSS (8%) : R$`<br>\n",
    "    `- Sindicato ( 5%) : R$`<br>\n",
    "    `= Salário Liquido : R$`<br>\n",
    "Obs.: Salário Bruto - Descontos = Salário Líquido."
   ]
  },
  {
   "cell_type": "code",
   "execution_count": 26,
   "metadata": {},
   "outputs": [
    {
     "name": "stdout",
     "output_type": "stream",
     "text": [
      "Quanto você recebe por hora? 30\n",
      "Quantas horas trabalha por mês? 180\n",
      "+ Salário Bruto : R$5400.00\n",
      "- IR (11%) : R$594.00\n",
      "- INSS (8%) : R$432.00\n",
      "- Sindicato ( 5%) : R$270.00\n",
      "= Salário Liquido : R$4104.00\n"
     ]
    }
   ],
   "source": [
    "realHr = float(input('Quanto você recebe por hora? '))\n",
    "hrsMes = float(input('Quantas horas trabalha por mês? '))\n",
    "sBruto = realHr * hrsMes\n",
    "print('+ Salário Bruto : R${0:.2f}'.format(sBruto))\n",
    "ir = sBruto * 0.11\n",
    "print('- IR (11%) : R${0:.2f}'.format(ir))\n",
    "inss = sBruto * 0.08\n",
    "print('- INSS (8%) : R${0:.2f}'.format(inss))\n",
    "sind = sBruto * 0.05\n",
    "print('- Sindicato ( 5%) : R${0:.2f}'.format(sind))\n",
    "print('= Salário Liquido : R${0:.2f}'.format(sBruto - ir - inss - sind))"
   ]
  },
  {
   "cell_type": "markdown",
   "metadata": {},
   "source": [
    "16. Faça um programa para uma loja de tintas. O programa deverá pedir o tamanho em metros quadrados da área a ser pintada. Considere que a cobertura da tinta é de 1 litro para cada 3 metros quadrados e que a tinta é vendida em latas de 18 litros, que custam R$ 80,00. Informe ao usuário a quantidades de latas de tinta a serem compradas e o preço total."
   ]
  },
  {
   "cell_type": "code",
   "execution_count": 33,
   "metadata": {},
   "outputs": [
    {
     "name": "stdout",
     "output_type": "stream",
     "text": [
      "Qual a área a ser pintada em metros quadrados? 55\n",
      "Você irá precisar de 2 latas de tinta e que custará R$160.00\n"
     ]
    }
   ],
   "source": [
    "from math import ceil\n",
    "area = float(input('Qual a área a ser pintada em metros quadrados? '))\n",
    "volLata = 18\n",
    "tintaArea = area / 3\n",
    "vlrLata = 80\n",
    "qtdTinta = ceil(tintaArea/18)\n",
    "print('Você irá precisar de {0} latas de tinta e que custará R${1:.2f}'.format(qtdTinta, qtdTinta * vlrLata))"
   ]
  },
  {
   "cell_type": "markdown",
   "metadata": {},
   "source": [
    "17. Faça um Programa para uma loja de tintas. O programa deverá pedir o tamanho em metros quadrados da área a ser pintada. Considere que a cobertura da tinta é de 1 litro para cada 6 metros quadrados e que a tinta é vendida em latas de 18 litros, que custam R\\$ 80,00 ou em galões de 3,6 litros, que custam R\\$25,00.<br>\n",
    "Informe ao usuário as quantidades de tinta a serem compradas e os respectivos preços em 3 situações:<br>\n",
    " * comprar apenas latas de 18 litros;<br>\n",
    " * comprar apenas galões de 3,6 litros;<br>\n",
    " * misturar latas e galões, de forma que o preço seja o menor. Acrescente 10% de folga e sempre arredonde os valores para cima, isto é, considere latas cheias."
   ]
  },
  {
   "cell_type": "code",
   "execution_count": 43,
   "metadata": {},
   "outputs": [
    {
     "name": "stdout",
     "output_type": "stream",
     "text": [
      "Qual a área a ser pintada em metros quadrados? 100\n",
      "Você irá precisar de 1 latas de tinta e que lhe custará R$80.00\n",
      "Ou você irá precisar de 5 galões de tinta e que lhe custará R$125.00\n",
      "Ou você irá precisar de 1 latas e 1 galões de tinta e que lhe custará R$106.48\n"
     ]
    }
   ],
   "source": [
    "from math import ceil\n",
    "area = float(input('Qual a área a ser pintada em metros quadrados? '))\n",
    "volLata = 18\n",
    "volGalao = 3.6\n",
    "tintaArea = area / 6\n",
    "vlrLata = 80\n",
    "vlrGalao = 25\n",
    "qtdTintaLata = ceil(tintaArea/volLata)\n",
    "qtdTintaGalao = ceil(tintaArea/volGalao)\n",
    "print('Você irá precisar de {0} latas de tinta e que lhe custará R${1:.2f}'.format(qtdTintaLata, qtdTintaLata * vlrLata))\n",
    "print('Ou você irá precisar de {0} galões de tinta e que lhe custará R${1:.2f}'.format(qtdTintaGalao, qtdTintaGalao * vlrGalao))\n",
    "\n",
    "qtdTintaLata = (tintaArea * 1.1) / volLata\n",
    "qtdTintaGalao = ceil((tintaArea * 1.1) % volGalao)\n",
    "print('Ou você irá precisar de {0:.0f} latas e {1} galões de tinta e que lhe custará R${2:.2f}'.format(qtdTintaLata,qtdTintaGalao, (qtdTintaLata * vlrLata + qtdTintaGalao * vlrGalao)))"
   ]
  },
  {
   "cell_type": "markdown",
   "metadata": {},
   "source": [
    "18. Faça um programa que peça o tamanho de um arquivo para download (em MB) e a velocidade de um link de Internet (em Mbps), calcule e informe o tempo aproximado de download do arquivo usando este link (em minutos)."
   ]
  },
  {
   "cell_type": "code",
   "execution_count": 55,
   "metadata": {},
   "outputs": [
    {
     "name": "stdout",
     "output_type": "stream",
     "text": [
      "Qual o tamanho do arquivo (em MB)? 1024\n",
      "Qual a velocidade do link (em Mbps)? 128\n",
      "O tempo estimado de download será 64.00 minutos\n"
     ]
    }
   ],
   "source": [
    "fileSize = float(input('Qual o tamanho do arquivo (em MB)? '))\n",
    "link = float(input('Qual a velocidade do link (em Mbps)? '))\n",
    "print('O tempo estimado de download será {0:.2f} minutos'.format((fileSize/(link/8))))"
   ]
  },
  {
   "cell_type": "code",
   "execution_count": null,
   "metadata": {},
   "outputs": [],
   "source": []
  }
 ],
 "metadata": {
  "kernelspec": {
   "display_name": "Python 3",
   "language": "python",
   "name": "python3"
  },
  "language_info": {
   "codemirror_mode": {
    "name": "ipython",
    "version": 3
   },
   "file_extension": ".py",
   "mimetype": "text/x-python",
   "name": "python",
   "nbconvert_exporter": "python",
   "pygments_lexer": "ipython3",
   "version": "3.6.5"
  }
 },
 "nbformat": 4,
 "nbformat_minor": 2
}
