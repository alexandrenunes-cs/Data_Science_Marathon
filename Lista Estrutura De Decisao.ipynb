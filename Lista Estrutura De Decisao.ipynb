{
 "cells": [
  {
   "cell_type": "markdown",
   "metadata": {},
   "source": [
    "1. Faça um Programa que peça dois números e imprima o maior deles."
   ]
  },
  {
   "cell_type": "code",
   "execution_count": 1,
   "metadata": {},
   "outputs": [
    {
     "name": "stdout",
     "output_type": "stream",
     "text": [
      "Digite um número: 2\n",
      "Digite outro número: 5\n",
      "O maior número digitado é: 5.0\n"
     ]
    }
   ],
   "source": [
    "x = float(input('Digite um número: '))\n",
    "y = float(input('Digite outro número: '))\n",
    "print('O maior número digitado é: {0:.1f}'.format(max(x,y)))"
   ]
  },
  {
   "cell_type": "markdown",
   "metadata": {},
   "source": [
    "2. Faça um Programa que peça um valor e mostre na tela se o valor é positivo ou negativo."
   ]
  },
  {
   "cell_type": "code",
   "execution_count": 3,
   "metadata": {},
   "outputs": [
    {
     "name": "stdout",
     "output_type": "stream",
     "text": [
      "Digite um número: 6\n",
      "É positivo!\n"
     ]
    }
   ],
   "source": [
    "x = float(input('Digite um número: '))\n",
    "print('É positivo!' if x >= 0 else 'É negativo!')"
   ]
  },
  {
   "cell_type": "markdown",
   "metadata": {},
   "source": [
    "3. Faça um Programa que verifique se uma letra digitada é vogal ou consoante."
   ]
  },
  {
   "cell_type": "code",
   "execution_count": 18,
   "metadata": {},
   "outputs": [
    {
     "name": "stdout",
     "output_type": "stream",
     "text": [
      "Digite uma letra: A\n",
      "É uma vogal!\n"
     ]
    }
   ],
   "source": [
    "x = input('Digite uma letra: ')\n",
    "if ord(x.lower()) >= 97 and  ord(x.lower()) <= 122:\n",
    "    if x.lower() in ['a', 'e', 'i', 'o', 'u']:\n",
    "        print('É uma vogal!')\n",
    "    else: \n",
    "        print('É uma consoante!')\n",
    "else:\n",
    "    print('Não é uma letra!')"
   ]
  },
  {
   "cell_type": "markdown",
   "metadata": {},
   "source": [
    "4. Faça um programa para a leitura de duas notas parciais de um aluno. O programa deve calcular a média alcançada por aluno e apresentar:<br>\n",
    " * A mensagem \"Aprovado\", se a média alcançada for maior ou igual a sete;<br>\n",
    " * A mensagem \"Reprovado\", se a média for menor do que sete;<br>\n",
    " * A mensagem \"Aprovado com Distinção\", se a média for igual a dez."
   ]
  },
  {
   "cell_type": "code",
   "execution_count": 22,
   "metadata": {},
   "outputs": [
    {
     "name": "stdout",
     "output_type": "stream",
     "text": [
      "Digite a primeira nota: 10\n",
      "Digite a segunda nota: 3\n",
      "Reprovado\n"
     ]
    }
   ],
   "source": [
    "n1 = float(input('Digite a primeira nota: '))\n",
    "n2 = float(input('Digite a segunda nota: '))\n",
    "if (n1+n2)/2 == 10:\n",
    "    print('Aprovado com Distinção')\n",
    "elif (n1+n2)/2 < 7:\n",
    "    print('Reprovado')\n",
    "else:\n",
    "    print('Aprovado')\n"
   ]
  },
  {
   "cell_type": "markdown",
   "metadata": {},
   "source": [
    "5. Faça um Programa que leia três números e mostre o maior deles.\n"
   ]
  },
  {
   "cell_type": "code",
   "execution_count": 4,
   "metadata": {},
   "outputs": [
    {
     "name": "stdout",
     "output_type": "stream",
     "text": [
      "Digite três números (separados por \",\"): 7,7.1,2\n",
      "O maior número digitado é: 7.10\n"
     ]
    }
   ],
   "source": [
    "x,y,z = input('Digite três números (separados por \",\"): ').split(',')\n",
    "print('O maior número digitado é: {0:.2f}'.format(max(float(x),float(y),float(z))))"
   ]
  },
  {
   "cell_type": "markdown",
   "metadata": {},
   "source": [
    "6. Faça um Programa que leia três números e mostre o maior e o menor deles."
   ]
  },
  {
   "cell_type": "code",
   "execution_count": 5,
   "metadata": {},
   "outputs": [
    {
     "name": "stdout",
     "output_type": "stream",
     "text": [
      "Digite três números (separados por \",\"): 3,4,5\n",
      "O maior número digitado é: 5.00\n",
      "O menor número digitado é: 3.00\n"
     ]
    }
   ],
   "source": [
    "x,y,z = input('Digite três números (separados por \",\"): ').split(',')\n",
    "print('O maior número digitado é: {0:.2f}'.format(max(float(x),float(y),float(z))))\n",
    "print('O menor número digitado é: {0:.2f}'.format(min(float(x),float(y),float(z))))"
   ]
  },
  {
   "cell_type": "markdown",
   "metadata": {},
   "source": [
    "7. Faça um programa que pergunte o preço de três produtos e informe qual produto você deve comprar, sabendo que a decisão é sempre pelo mais barato."
   ]
  },
  {
   "cell_type": "code",
   "execution_count": 6,
   "metadata": {},
   "outputs": [
    {
     "name": "stdout",
     "output_type": "stream",
     "text": [
      "Digite os preços dos três produtos (separados por \",\"): 3,5.6,7\n",
      "O produto sugerido é o de valor: 3.00\n"
     ]
    }
   ],
   "source": [
    "x,y,z = input('Digite os preços dos três produtos (separados por \",\"): ').split(',')\n",
    "print('O produto sugerido é o de valor: {0:.2f}'.format(min(float(x),float(y),float(z))))"
   ]
  },
  {
   "cell_type": "markdown",
   "metadata": {},
   "source": [
    "8. Faça um Programa que leia três números e mostre-os em ordem decrescente."
   ]
  },
  {
   "cell_type": "code",
   "execution_count": 7,
   "metadata": {},
   "outputs": [
    {
     "name": "stdout",
     "output_type": "stream",
     "text": [
      "Digite três números (separados por \",\"): 1,2,3\n",
      "O 1° número em ordem decrescente é: 3.00\n",
      "O 2° número em ordem decrescente é: 2.00\n",
      "O 3° número em ordem decrescente é: 1.00\n"
     ]
    }
   ],
   "source": [
    "x,y,z = input('Digite três números (separados por \",\"): ').split(',')\n",
    "l =[]\n",
    "l.append(float(x))\n",
    "l.append(float(y))\n",
    "l.append(float(z))\n",
    "l.sort(reverse = True)\n",
    "for i in range(0,len(l)): print('O {0}° número em ordem decrescente é: {1:.2f}'.format(i+1,l[i]))"
   ]
  },
  {
   "cell_type": "markdown",
   "metadata": {},
   "source": [
    "9. Faça um Programa que pergunte em que turno você estuda. Peça para digitar M-matutino ou V-Vespertino ou N- Noturno. Imprima a mensagem \"Bom Dia!\", \"Boa Tarde!\" ou \"Boa Noite!\" ou \"Valor Inválido!\", conforme o caso."
   ]
  },
  {
   "cell_type": "code",
   "execution_count": 11,
   "metadata": {},
   "outputs": [
    {
     "name": "stdout",
     "output_type": "stream",
     "text": [
      "Qual o turno você estuda ([M]matutino ou [V]Vespertino ou [N]Noturno? v\n",
      "Bom tarde!\n"
     ]
    }
   ],
   "source": [
    "turno = input('Qual o turno você estuda ([M]matutino ou [V]Vespertino ou [N]Noturno? ')\n",
    "if turno.lower() == 'm': print('Bom dia!')\n",
    "elif turno.lower() == 'v': print('Bom tarde!')\n",
    "elif turno.lower() == 'n': print('Boa noite!')\n",
    "else: print('Valor Inválido!')"
   ]
  },
  {
   "cell_type": "markdown",
   "metadata": {},
   "source": [
    "10. As Organizações Tabajara resolveram dar um aumento de salário aos seus colaboradores e lhe contraram para desenvolver o programa que calculará os reajustes.<br>\n",
    "Faça um programa que recebe o salário de um colaborador e o reajuste segundo o seguinte critério, baseado no salário atual:<br>\n",
    " * salários até R\\$ 280,00 (incluindo) : aumento de 20%<br>\n",
    " * salários entre R\\$ 280,00 e R\\$ 700,00 : aumento de 15%<br>\n",
    " * salários entre R\\$ 700,00 e R\\$ 1500,00 : aumento de 10%<br>\n",
    " * salários de R\\$ 1500,00 em diante : aumento de 5% Após o aumento ser realizado, informe na tela:<br>\n",
    " * o salário antes do reajuste;<br>\n",
    " * o percentual de aumento aplicado;<br>\n",
    " * o valor do aumento;<br>\n",
    " * o novo salário, após o aumento.<br>"
   ]
  },
  {
   "cell_type": "code",
   "execution_count": 16,
   "metadata": {},
   "outputs": [
    {
     "name": "stdout",
     "output_type": "stream",
     "text": [
      "Digite o valor do salário do funcionário: 800\n",
      "o salário antes do reajuste: R$800.0\n",
      "o percentual de aumento aplicado: 10%\n",
      "o valor do aumento: R$80.0\n",
      "o novo salário, após o aumento: R$880.0\n"
     ]
    }
   ],
   "source": [
    "sal = float(input('Digite o valor do salário do funcionário: '))\n",
    "if sal <= 280: aumento = 0.2\n",
    "elif sal > 280 and sal <= 700: aumento = 0.15\n",
    "elif sal > 1500: aumento = 0.05\n",
    "else: aumento = 0.1\n",
    "print('o salário antes do reajuste: R${0}'.format(sal))\n",
    "print('o percentual de aumento aplicado: {0:.0f}%'.format(aumento*100))\n",
    "print('o valor do aumento: R${0}'.format(sal * aumento))\n",
    "print('o novo salário, após o aumento: R${0}'.format(sal + (sal * aumento)))"
   ]
  },
  {
   "cell_type": "markdown",
   "metadata": {},
   "source": [
    "11. Faça um programa para o cálculo de uma folha de pagamento, sabendo que os descontos são do Imposto de Renda, que depende do salário bruto (conforme tabela abaixo) e 3% para o Sindicato e que o FGTS corresponde a 11% do Salário Bruto, mas não é descontado (é a empresa que deposita). O Salário Líquido corresponde ao Salário Bruto menos os descontos. O programa deverá pedir ao usuário o valor da sua hora e a quantidade de horas trabalhadas no mês.<br>\n",
    "Desconto do IR:<br>\n",
    " * Salário Bruto até 900 (inclusive) - isento<br>\n",
    " * Salário Bruto até 1500 (inclusive) - desconto de 5%<br>\n",
    " * Salário Bruto até 2500 (inclusive) - desconto de 10%<br>\n",
    " * Salário Bruto acima de 2500 - desconto de 20% Imprima na tela as informações, dispostas conforme o exemplo abaixo. No exemplo o valor da hora é 5 e a quantidade de hora é 220.<br>\n",
    "`Salário Bruto: (5 * 220)        : R\\$ 1100,00`<br>\n",
    "`(-) IR (5%)                     : R\\$   55,00`<br>\n",
    "`(-) INSS ( 10%)                 : R\\$  110,00`<br>\n",
    "`FGTS (11%)                      : R\\$  121,00`<br>\n",
    "`Total de descontos              : R\\$  165,00`<br>\n",
    "`Salário Liquido                 : R\\$  935,00`<br>"
   ]
  },
  {
   "cell_type": "code",
   "execution_count": 19,
   "metadata": {},
   "outputs": [
    {
     "name": "stdout",
     "output_type": "stream",
     "text": [
      "Quanto você recebe por hora? 5\n",
      "Quantas horas trabalha por mês? 220\n",
      "Salário Bruto:                  : R$1100.0\n",
      "(-) IR (5%)                     : R$55%\n",
      "(-) INSS ( 10%)                 : R$110.0\n",
      "FGTS (11%)                      : R$121.0\n",
      "Total de descontos              : R$165.0\n",
      "Salário Liquido                 : R$935.0\n"
     ]
    }
   ],
   "source": [
    "realHr = float(input('Quanto você recebe por hora? '))\n",
    "hrsMes = float(input('Quantas horas trabalha por mês? '))\n",
    "sBruto = realHr * hrsMes\n",
    "fgts = 0.11\n",
    "inss = 0.1\n",
    "if sBruto <= 900: ir = 0.0\n",
    "elif sBruto > 900 and sBruto <= 1500: ir = 0.05\n",
    "elif sBruto > 2500: ir = 0.2\n",
    "else: ir = 0.1\n",
    "print('Salário Bruto:                  : R${0}'.format(sBruto))\n",
    "print('(-) IR ({0:.0f}%)                     : R${1:.0f}%'.format(ir*100, sBruto * ir ))\n",
    "print('(-) INSS ( 10%)                 : R${0}'.format(sBruto * inss))\n",
    "print('FGTS (11%)                      : R${0}'.format(sBruto * fgts))\n",
    "print('Total de descontos              : R${0}'.format(sBruto * ir + sBruto * inss))\n",
    "print('Salário Liquido                 : R${0}'.format(sBruto - (sBruto * ir + sBruto * inss)))"
   ]
  },
  {
   "cell_type": "markdown",
   "metadata": {},
   "source": [
    "12. Faça um Programa que leia um número e exiba o dia correspondente da semana. (1-Domingo, 2- Segunda, etc.), se digitar outro valor deve aparecer valor inválido."
   ]
  },
  {
   "cell_type": "code",
   "execution_count": 22,
   "metadata": {},
   "outputs": [
    {
     "name": "stdout",
     "output_type": "stream",
     "text": [
      "Informe o dia da semana (1-Domingo, 2- Segunda, etc.): 4\n",
      "O dia da semana é: Quarta\n"
     ]
    }
   ],
   "source": [
    "week = {1:'Domingo',\n",
    "        2:'Segunda',\n",
    "        3:'Terça',\n",
    "        4:'Quarta',\n",
    "        5:'Quinta',\n",
    "        6:'Sexta',\n",
    "        7:'Sábado'}\n",
    "weekDay = int(input('Informe o dia da semana (1-Domingo, 2- Segunda, etc.): '))\n",
    "print('O dia da semana é: ' + week[weekDay])"
   ]
  },
  {
   "cell_type": "markdown",
   "metadata": {},
   "source": [
    "13. Faça um programa que lê as duas notas parciais obtidas por um aluno numa disciplina ao longo de um semestre, e calcule a sua média. A atribuição de conceitos obedece à tabela abaixo:<br><br>\n",
    "`Média de Aproveitamento  Conceito\n",
    "  Entre 9.0 e 10.0          A\n",
    "  Entre 7.5 e 9.0           B\n",
    "  Entre 6.0 e 7.5           C\n",
    "  Entre 4.0 e 6.0           D\n",
    "  Entre 4.0 e zero          E`<br><br>\n",
    "O algoritmo deve mostrar na tela as notas, a média, o conceito correspondente e a mensagem “APROVADO” se o conceito for A, B ou C ou “REPROVADO” se o conceito for D ou E."
   ]
  },
  {
   "cell_type": "code",
   "execution_count": 30,
   "metadata": {},
   "outputs": [
    {
     "name": "stdout",
     "output_type": "stream",
     "text": [
      "Digite as duas notas (separadas por \",\"): 10,7\n",
      "Nota 1  : 10.00\n",
      "Nota 2  : 7.00\n",
      "Média   : 8.50\n",
      "Conceito: B\n",
      "Aprovado\n"
     ]
    }
   ],
   "source": [
    "x,y = input('Digite as duas notas (separadas por \",\"): ').split(',')\n",
    "x = float(x)\n",
    "y = float(y)\n",
    "media = (x + y ) / 2\n",
    "if media <= 4: \n",
    "    conceito = 'E'\n",
    "    msg = 'REPROVADO'\n",
    "elif media > 4 and media <= 6: \n",
    "    conceito = 'D'\n",
    "    msg = 'REPROVADO'\n",
    "elif media > 6 and media <= 7.5: \n",
    "    conceito = 'C'\n",
    "    msg = 'Aprovado'\n",
    "elif media > 7.5 and media <= 9: \n",
    "    conceito = 'B'\n",
    "    msg = 'Aprovado'\n",
    "elif media > 9 and media <= 10: \n",
    "    conceito = 'A'\n",
    "    msg = 'Aprovado'\n",
    "\n",
    "print('Nota 1  : {0:.2f}'.format(x))\n",
    "print('Nota 2  : {0:.2f}'.format(y))\n",
    "print('Média   : {0:.2f}'.format((x+y)/2))\n",
    "print('Conceito: ' + conceito)\n",
    "print(msg)\n",
    "\n"
   ]
  },
  {
   "cell_type": "markdown",
   "metadata": {},
   "source": [
    "14. Faça um Programa que peça os 3 lados de um triângulo. O programa deverá informar se os valores podem ser um triângulo. Indique, caso os lados formem um triângulo, se o mesmo é: equilátero, isósceles ou escaleno.<br>\n",
    "Dicas:<br>\n",
    " * Três lados formam um triângulo quando a soma de quaisquer dois lados for maior que o terceiro;<br>\n",
    " * Triângulo Equilátero: três lados iguais;<br>\n",
    " * Triângulo Isósceles: quaisquer dois lados iguais;<br>\n",
    " * Triângulo Escaleno: três lados diferentes;"
   ]
  },
  {
   "cell_type": "code",
   "execution_count": 34,
   "metadata": {},
   "outputs": [
    {
     "name": "stdout",
     "output_type": "stream",
     "text": [
      "Digite os lados do triangulo (separados por \",\"): 3,3,4\n",
      "É um triângulo isósceles!\n"
     ]
    }
   ],
   "source": [
    "x,y,z = input('Digite os lados do triangulo (separados por \",\"): ').split(',')\n",
    "x = float(x)\n",
    "y = float(y)\n",
    "z = float(z)\n",
    "if x + y > z and x + z > y and y + z > x:\n",
    "    if x == y == z:\n",
    "        print('É um triângulo equilátero!')\n",
    "    elif x == y or x == z or y == z:\n",
    "        print('É um triângulo isósceles!')\n",
    "    else: \n",
    "         print('É um triângulo escaleno!')\n",
    "        \n",
    "else:\n",
    "    print('Não é um triangulo!')\n"
   ]
  },
  {
   "cell_type": "markdown",
   "metadata": {},
   "source": [
    "15. Faça um programa que calcule as raízes de uma equação do segundo grau, na forma ax2 + bx + c. O programa deverá pedir os valores de a, b e c e fazer as consistências, informando ao usuário nas seguintes situações:<br>\n",
    " * Se o usuário informar o valor de A igual a zero, a equação não é do segundo grau e o programa não deve fazer pedir os demais valores, sendo encerrado;<br>\n",
    " * Se o delta calculado for negativo, a equação não possui raizes reais. Informe ao usuário e encerre o programa;<br>\n",
    " * Se o delta calculado for igual a zero a equação possui apenas uma raiz real; informe-a ao usuário;<br>\n",
    " * Se o delta for positivo, a equação possui duas raiz reais; informe-as ao usuário;"
   ]
  },
  {
   "cell_type": "code",
   "execution_count": 40,
   "metadata": {},
   "outputs": [
    {
     "name": "stdout",
     "output_type": "stream",
     "text": [
      "Digite o valor \"a\": 0\n",
      "Não é equação de 2° grau\n"
     ]
    }
   ],
   "source": [
    "from math import sqrt\n",
    "a = float(input('Digite o valor \"a\": '))\n",
    "if a != 0 :\n",
    "    b = float(input('Digite o valor \"b\": '))\n",
    "    c = float(input('Digite o valor \"c\": '))\n",
    "    #delta = sqrt(b**2 - 4*a*c)\n",
    "    delta = b**2 - (4*a*c)\n",
    "    if delta < 0:\n",
    "        print('Não existe raízes reais!')\n",
    "    elif delta == 0:\n",
    "        result = (-b + sqrt(delta))/ 2 *a\n",
    "        print('Existe apenas uma raíz real: {0:.1f}'.format(result))\n",
    "    else:\n",
    "        resultN = (-b - sqrt(delta))/ 2 *a\n",
    "        resultP = (-b + sqrt(delta))/ 2 *a\n",
    "        print('Existem duas raízes reais: {0:.1f} e {1:.1f}'.format(resultN, resultP))\n",
    "else:\n",
    "    print('Não é equação de 2° grau')"
   ]
  },
  {
   "cell_type": "markdown",
   "metadata": {},
   "source": [
    "16. Faça um Programa que peça um número correspondente a um determinado ano e em seguida informe se este ano é ou não bissexto."
   ]
  },
  {
   "cell_type": "code",
   "execution_count": 49,
   "metadata": {},
   "outputs": [
    {
     "name": "stdout",
     "output_type": "stream",
     "text": [
      "Digite um ano para saber se é bissexto: 2020\n",
      "É um ano bissexto!\n"
     ]
    }
   ],
   "source": [
    "ano = int(input('Digite um ano para saber se é bissexto: '))\n",
    "if (ano % 4 == 0 and ano % 100 != 0) or ano % 400 == 0:\n",
    "    print('É um ano bissexto!')\n",
    "else: \n",
    "    print('Não é um ano bissexto!')"
   ]
  },
  {
   "cell_type": "markdown",
   "metadata": {},
   "source": [
    "17. Faça um Programa que peça uma data no formato dd/mm/aaaa e determine se a mesma é uma data válida."
   ]
  },
  {
   "cell_type": "code",
   "execution_count": 58,
   "metadata": {},
   "outputs": [
    {
     "name": "stdout",
     "output_type": "stream",
     "text": [
      "Digite uma data (dd/mm/aaaa): 29/02/2015\n",
      "Data inválida!\n"
     ]
    }
   ],
   "source": [
    "day,month,year = input('Digite uma data (dd/mm/aaaa): ').split('/')\n",
    "import datetime\n",
    "def validate(date_text):\n",
    "    try:\n",
    "        datetime.datetime.strptime(date_text, '%Y-%m-%d')\n",
    "        print('Data Válida!')\n",
    "    except ValueError:\n",
    "        print(\"Data inválida!\")\n",
    "validate(year+'-'+month+'-'+day)"
   ]
  },
  {
   "cell_type": "code",
   "execution_count": null,
   "metadata": {},
   "outputs": [],
   "source": []
  }
 ],
 "metadata": {
  "kernelspec": {
   "display_name": "Python 3",
   "language": "python",
   "name": "python3"
  },
  "language_info": {
   "codemirror_mode": {
    "name": "ipython",
    "version": 3
   },
   "file_extension": ".py",
   "mimetype": "text/x-python",
   "name": "python",
   "nbconvert_exporter": "python",
   "pygments_lexer": "ipython3",
   "version": "3.6.5"
  }
 },
 "nbformat": 4,
 "nbformat_minor": 2
}
