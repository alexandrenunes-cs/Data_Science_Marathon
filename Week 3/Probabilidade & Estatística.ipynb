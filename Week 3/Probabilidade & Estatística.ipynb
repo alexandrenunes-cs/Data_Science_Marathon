{
 "cells": [
  {
   "cell_type": "markdown",
   "metadata": {},
   "source": [
    "## Questão 1<br>\n",
    "No lançamento de dois dados, qual é o número total de possibilidades de resultados e qual é a probabilidade de obtermos soma igual a 8?<br>\n",
    "a) 36 e 5%<br>\n",
    "b) 36 e 14%<br>\n",
    "c) 6 e 5%<br>\n",
    "d) 5 e 6%<br>\n",
    "e) 36 e 6%"
   ]
  },
  {
   "cell_type": "markdown",
   "metadata": {},
   "source": [
    "## Resposta Questão 1\n",
    "Primeiramente, vamos descobrir o número total de possibilidades, pois ele será usado para descobrirmos a probabilidade de obter soma 8:<br>\n",
    "São dois dados com seis resultados possíveis cada. As combinações entre esses resultados podem ser calculadas multiplicando-se o número de resultados do primeiro pelo do segundo:<br>\n",
    "6·6 = 36<br>\n",
    "Também poderíamos ter escrito todas as possibilidades e contado-as, mas esse procedimento gasta mais tempo. Portanto, o número total de possibilidades de resultados é 36.<br>\n",
    "Para calcular a probabilidade de sair soma 8, devemos procurar as possibilidades de obter tal soma. São elas:\n",
    "2,6; 3,5; 4,4; 5,3 e 6,2<br>\n",
    "Sendo 5 o número de possibilidades de obter soma 8, divida esse número pelo número total de possibilidades de resultados:<br>\n",
    " 5 = 0,14<br>\n",
    "36         \n",
    "Para transformar isso em porcentagem, basta multiplicar por 100:<br>\n",
    "0,14·100 = 14%<br>\n",
    "A probabilidade de sair soma 8 é 14%.\n",
    "### Gabarito: Letra B."
   ]
  },
  {
   "cell_type": "markdown",
   "metadata": {},
   "source": [
    "## Questão 2<br>\n",
    "Qual é a probabilidade de, no lançamento de 4 moedas, obtermos cara em todos os resultados?<br>\n",
    "a) 2%<br>\n",
    "b) 2,2%<br>\n",
    "c) 6,2%<br>\n",
    "e) 4%<br>\n",
    "f) 4,2%"
   ]
  },
  {
   "cell_type": "markdown",
   "metadata": {},
   "source": [
    "## Resposta Questão 2\n",
    "Primeiramente, é necessário encontrar o número total de possibilidades de resultados:\n",
    "2·2·2·2 = 16\n",
    "Posteriormente, devemos encontrar o número de possibilidades de obter cara em todos os resultados. Na realidade, só existe uma possibilidade de que isso aconteça.\n",
    "Por fim, basta dividir o segundo pelo primeiro:\n",
    " 1 = 0,0625\n",
    "16             \n",
    "Multiplicando 6,25 por 100, para obter um percentual, teremos: 6,25%\n",
    "### Gabarito: Letra C."
   ]
  },
  {
   "cell_type": "markdown",
   "metadata": {},
   "source": [
    "## Questão 3\n",
    "Duas moedas e dois dados, todos diferentes entre si, foram lançados simultaneamente. Qual é o número de possibilidades de resultados para esse experimento?<br>\n",
    "a) 146<br>\n",
    "b) 142<br>\n",
    "c) 133<br>\n",
    "d) 144<br>\n",
    "e) 155"
   ]
  },
  {
   "cell_type": "markdown",
   "metadata": {},
   "source": [
    "## Resposta Questão 3\n",
    "Para calcular o número de possibilidades de resultados de um experimento nesses moldes, multiplique o número de resultados possíveis de cada objeto em observação. No caso de cada moeda, 2 resultados, e de cada dado, 6 resultados:<br>\n",
    "2·2·6·6 = 4·36 = 144\n",
    "### Gabarito: Letra D."
   ]
  },
  {
   "cell_type": "markdown",
   "metadata": {},
   "source": [
    "## Questão 4\n",
    "Qual é o número total de possibilidades de resultado no lançamento de 5 moedas?<br>\n",
    "a) 2<br>\n",
    "b) 5<br>\n",
    "c) 10<br>\n",
    "d) 24<br>\n",
    "e) 32"
   ]
  },
  {
   "cell_type": "markdown",
   "metadata": {},
   "source": [
    "## Resposta Questão 4\n",
    "O número total de resultados que pode ser obtido no lançamento de duas moedas é encontrado multiplicando-se a quantidade de resultados da primeira moeda pela quantidade da segunda e assim por diante. Observe:<br>\n",
    "2·2·2·2·2 = 32<br>\n",
    "Portanto, são 32 possibilidades diferentes.\n",
    "### Gabarito: Letra E."
   ]
  },
  {
   "cell_type": "code",
   "execution_count": null,
   "metadata": {},
   "outputs": [],
   "source": []
  }
 ],
 "metadata": {
  "kernelspec": {
   "display_name": "Python 3",
   "language": "python",
   "name": "python3"
  },
  "language_info": {
   "codemirror_mode": {
    "name": "ipython",
    "version": 3
   },
   "file_extension": ".py",
   "mimetype": "text/x-python",
   "name": "python",
   "nbconvert_exporter": "python",
   "pygments_lexer": "ipython3",
   "version": "3.6.5"
  }
 },
 "nbformat": 4,
 "nbformat_minor": 2
}
