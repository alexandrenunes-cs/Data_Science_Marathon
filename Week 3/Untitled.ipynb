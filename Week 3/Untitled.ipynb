{
 "cells": [
  {
   "cell_type": "code",
   "execution_count": 17,
   "metadata": {},
   "outputs": [
    {
     "name": "stdout",
     "output_type": "stream",
     "text": [
      "VALORES INFORMADOS: [13.3, 14.3, 14.9, 15.2, 15.8, 14.2, 16.0, 14.0, 14.5, 16.1, 13.7, 15.2, 13.7, 16.9, 14.9, 14.4, 15.3, 13.1, 15.2, 15.9, 15.1, 14.9, 13.6, 13.7, 15.3, 15.5, 14.5, 16.5, 13.4, 15.2, 15.3, 13.8, 14.3, 12.6, 15.3, 14.8, 14.1, 14.4, 14.3, 15.6]\n",
      "SOMA => 588\n",
      "MÉDIA => 14.720\n",
      "VARIÂNCIA => 0.90\n",
      "DESVIO PADRÃO => 0.95\n"
     ]
    }
   ],
   "source": [
    "#!/usr/bin/env python\n",
    "#-*- encoding: utf-8 -*-\n",
    " \n",
    "# Autor: Thiago Monteiro\n",
    "# Data: 10/10/2012\n",
    "# Local: Goiânia/Goiás/Brasil\n",
    " \n",
    "import math, os, sys\n",
    " \n",
    "def calcular(valores=None, calculos=None):\n",
    "    if valores:\n",
    "        if valores.__class__.__name__ == 'list' and calculos.__class__.__name__ == 'dict':\n",
    "            def somar(valores):\n",
    "                soma = 0\n",
    "                for v in valores:\n",
    "                    soma += v\n",
    "                return soma\n",
    " \n",
    " \n",
    "            def media(valores):\n",
    "                soma = somar(valores)\n",
    "                qtd_elementos = len(valores)\n",
    "                media = soma / float(qtd_elementos)\n",
    "                return media\n",
    " \n",
    " \n",
    "            def variancia(valores):\n",
    "                _media = media(valores)\n",
    "                soma = 0\n",
    "                _variancia = 0\n",
    " \n",
    "                for valor in valores:\n",
    "                    soma += math.pow( (valor - _media), 2)\n",
    "                _variancia = soma / float( len(valores) )\n",
    "                return _variancia\n",
    " \n",
    " \n",
    "            def desvio_padrao(valores):\n",
    "                return math.sqrt( variancia(valores) )\n",
    "                 \n",
    " \n",
    "            calculos['soma'] = somar(valores)\n",
    "            calculos['media'] = media(valores)\n",
    "            calculos['variancia'] = variancia(valores)\n",
    "            calculos['desvio_padrao'] = desvio_padrao(valores)\n",
    " \n",
    " \n",
    "if __name__ == '__main__':\n",
    "    os.system('clear')\n",
    "#   valores = range(1, 16)\n",
    "    #valores = [9,12,6,9,7,14,12,4,6,7,8,5,9,7,8,11,3,6,7,7,11,4,4,8,7,5,6,4,5,8,19,19,18,12,11,17,15,17,13,13]\n",
    "    valores =[13.3, 14.3, 14.9, 15.2, 15.8, 14.2, 16.0, 14.0, \\\n",
    "14.5, 16.1, 13.7, 15.2, 13.7, 16.9, 14.9, 14.4, \\\n",
    "15.3, 13.1, 15.2, 15.9, 15.1, 14.9, 13.6, 13.7, \\\n",
    "15.3, 15.5, 14.5, 16.5, 13.4, 15.2, 15.3, 13.8, \\\n",
    "14.3, 12.6, 15.3, 14.8, 14.1, 14.4, 14.3, 15.6 ]\n",
    "    calculos = {}\n",
    "    calcular(valores, calculos)\n",
    "    print ('VALORES INFORMADOS: %s' % valores)\n",
    "    print ('SOMA => %d' % calculos['soma'])\n",
    "    print ('MÉDIA => %.3f' % calculos['media'])\n",
    "    print ('VARIÂNCIA => %.2f' % calculos['variancia'])\n",
    "    print ('DESVIO PADRÃO => %.2f' % calculos['desvio_padrao'])"
   ]
  },
  {
   "cell_type": "code",
   "execution_count": 11,
   "metadata": {},
   "outputs": [
    {
     "data": {
      "image/png": "[encoded data removed]",
      "text/plain": [
       "<Figure size 432x288 with 1 Axes>"
      ]
     },
     "metadata": {},
     "output_type": "display_data"
    }
   ],
   "source": [
    "import matplotlib.pyplot as plt\n",
    "import numpy as np\n",
    "rng = [9,12,6,9,7,14,12,4,6,7,8,5,9,7,8,11,3,6,7,7,11,4,4,8,7,5,6,4,5,8,19,19,18,12,11,17,15,17,13,13]\n",
    "a = np.hstack(rng)\n",
    "plt.hist(a, bins='auto')\n",
    "plt.title(\"Histogram\")\n",
    "plt.show()"
   ]
  },
  {
   "cell_type": "code",
   "execution_count": 16,
   "metadata": {},
   "outputs": [
    {
     "name": "stdout",
     "output_type": "stream",
     "text": [
      "0.9663041705384489\n"
     ]
    },
    {
     "data": {
      "text/plain": [
       "Fraction(7, 432)"
      ]
     },
     "execution_count": 16,
     "metadata": {},
     "output_type": "execute_result"
    }
   ],
   "source": [
    "import statistics\n",
    "from fractions import Fraction as F\n",
    " \n",
    "data = [14.8, 14.6, 15.6, 15.1, 14.8, 15.2, 15.6, 14.5, \\\n",
    "15.2, 14.3, 15.8, 17.0, 14.3, 14.6, 16.1, 12.8, \\\n",
    "14.5, 15.4, 13.3, 14.9, 14.3, 16.4, 13.9, 16.1, \\\n",
    "14.6, 15.2, 14.1, 14.8, 16.4, 14.2, 15.2, 16.6, \\\n",
    "14.1, 16.8, 15.4, 14.0, 16.9, 15.7, 14.4, 15.6]\n",
    " \n",
    "statistics.pvariance(data)     # returns 6.666666666666667\n",
    "print(statistics.pstdev(data))        # returns 2.581988897471611\n",
    "statistics.variance(data)      # returns 7.5\n",
    "statistics.stdev(data)         # returns 2.7386127875258306\n",
    " \n",
    "more_data = [3, 4, 5, 5, 5, 5, 5, 6, 6]\n",
    " \n",
    "statistics.pvariance(more_data)   # returns 0.7654320987654322\n",
    "statistics.pstdev(more_data)      # returns 0.8748897637790901\n",
    " \n",
    "some_fractions = [F(5, 6), F(2, 3), F(11, 12)]\n",
    "statistics.variance(some_fractions)\n",
    "# returns Fraction(7, 432)"
   ]
  },
  {
   "cell_type": "code",
   "execution_count": null,
   "metadata": {},
   "outputs": [],
   "source": []
  }
 ],
 "metadata": {
  "kernelspec": {
   "display_name": "Python 3",
   "language": "python",
   "name": "python3"
  },
  "language_info": {
   "codemirror_mode": {
    "name": "ipython",
    "version": 3
   },
   "file_extension": ".py",
   "mimetype": "text/x-python",
   "name": "python",
   "nbconvert_exporter": "python",
   "pygments_lexer": "ipython3",
   "version": "3.6.5"
  }
 },
 "nbformat": 4,
 "nbformat_minor": 2
}
